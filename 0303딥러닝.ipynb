{
  "nbformat": 4,
  "nbformat_minor": 0,
  "metadata": {
    "colab": {
      "name": "0303딥러닝.ipynb",
      "provenance": [],
      "collapsed_sections": []
    },
    "kernelspec": {
      "name": "python3",
      "display_name": "Python 3"
    },
    "language_info": {
      "name": "python"
    },
    "accelerator": "GPU"
  },
  "cells": [
    {
      "cell_type": "code",
      "source": [
        "from tensorflow.keras.datasets import mnist\n",
        "from sklearn.model_selection import train_test_split\n",
        "\n",
        "(train_images, train_labels), (test_images, test_labels) = mnist.load_data()\n",
        "# print(train_images[0])\n",
        "train_images = train_images.reshape((-1, 28, 28, 1))\n",
        "test_images = test_images.reshape((-1, 28, 28, 1))\n",
        "\n",
        "train_images = train_images/255. #값을 0부터1까지로\n",
        "test_images = test_images/255.\n",
        "\n",
        "valid_images, test_images, valid_labels, test_labels = train_test_split(test_images, test_labels, test_size=0.15, shuffle=True)"
      ],
      "metadata": {
        "id": "Wo_0-e6DVzaD"
      },
      "execution_count": null,
      "outputs": []
    },
    {
      "cell_type": "code",
      "execution_count": null,
      "metadata": {
        "colab": {
          "base_uri": "https://localhost:8080/"
        },
        "id": "Q0PTmbMUVYVg",
        "outputId": "9ad34231-dc7b-43ee-8712-f9d08613ef53"
      },
      "outputs": [
        {
          "output_type": "stream",
          "name": "stdout",
          "text": [
            "Model: \"model_1\"\n",
            "_________________________________________________________________\n",
            " Layer (type)                Output Shape              Param #   \n",
            "=================================================================\n",
            " input_2 (InputLayer)        [(None, 28, 28, 1)]       0         \n",
            "                                                                 \n",
            " conv2d_3 (Conv2D)           (None, 26, 26, 32)        320       \n",
            "                                                                 \n",
            " max_pooling2d_2 (MaxPooling  (None, 13, 13, 32)       0         \n",
            " 2D)                                                             \n",
            "                                                                 \n",
            " conv2d_4 (Conv2D)           (None, 11, 11, 64)        18496     \n",
            "                                                                 \n",
            " max_pooling2d_3 (MaxPooling  (None, 5, 5, 64)         0         \n",
            " 2D)                                                             \n",
            "                                                                 \n",
            " conv2d_5 (Conv2D)           (None, 3, 3, 64)          36928     \n",
            "                                                                 \n",
            " flatten_1 (Flatten)         (None, 576)               0         \n",
            "                                                                 \n",
            " dense_2 (Dense)             (None, 64)                36928     \n",
            "                                                                 \n",
            " dropout_1 (Dropout)         (None, 64)                0         \n",
            "                                                                 \n",
            " dense_3 (Dense)             (None, 10)                650       \n",
            "                                                                 \n",
            "=================================================================\n",
            "Total params: 93,322\n",
            "Trainable params: 93,322\n",
            "Non-trainable params: 0\n",
            "_________________________________________________________________\n"
          ]
        }
      ],
      "source": [
        "import tensorflow as tf\n",
        "from tensorflow.keras.models import Model\n",
        "from tensorflow.keras.layers import Input\n",
        "from tensorflow.keras.models import Sequential\n",
        "from tensorflow.keras.layers import Input, Conv2D, MaxPool2D, Flatten, Dense, Dropout\n",
        "inputs = Input(shape=(28, 28, 1))\n",
        "conv1 = Conv2D(32, (3, 3), activation=tf.nn.relu)(inputs)\n",
        "pool1 = MaxPool2D((2, 2))(conv1)\n",
        "\n",
        "conv2 = Conv2D(64, (3, 3), activation=tf.nn.relu)(pool1)\n",
        "pool2 = MaxPool2D((2, 2))(conv2)\n",
        "\n",
        "conv3 = Conv2D(64, (3, 3), activation=tf.nn.relu)(pool2)\n",
        "flat = Flatten()(conv3)\n",
        "\n",
        "dense4 = Dense(64, activation='relu') (flat)\n",
        "drop4 = Dropout(rate=0.2)(dense4)  # 일반화 20비율로 스킵하여 학습을 하지 않음\n",
        "outputs = Dense(10, activation='softmax')(drop4)\n",
        "\n",
        "model = Model(inputs=inputs, outputs=outputs)\n",
        "model.summary()"
      ]
    },
    {
      "cell_type": "code",
      "source": [
        "from tensorflow.keras.callbacks import ModelCheckpoint, EarlyStopping\n",
        "\n",
        "MODEL_SAVE_FOLDER='/content/drive/MyDrive/models'\n",
        "model_path = f\"{MODEL_SAVE_FOLDER}mnist-{{epoch:d}}-{{val_loss:.5f}}-{{val_accuracy:.5f}}.hdf5\"\n",
        "\n",
        "cb_checkpoint = ModelCheckpoint(filepath=model_path, monitor='val_accuracy',verbose=1, save_best_only=True)\n",
        "\n",
        "cb_early_stopping = EarlyStopping(monitor = 'val_accuracy', patience=6)"
      ],
      "metadata": {
        "id": "Owy4JtqnWTGz"
      },
      "execution_count": null,
      "outputs": []
    },
    {
      "cell_type": "code",
      "source": [
        "model.compile(optimizer='adam', loss='sparse_categorical_crossentropy', metrics=['accuracy'])\n",
        "hist = model.fit(train_images, train_labels, validation_data=(valid_images, valid_labels),\n",
        "                 epochs=100, batch_size=200,\n",
        "                 callbacks=[cb_checkpoint, cb_early_stopping])  #callbacks 내가 함수를 호출하는 것이 아니라 시스템이 함수를 소출시키는 것"
      ],
      "metadata": {
        "colab": {
          "base_uri": "https://localhost:8080/"
        },
        "id": "Y7bWEZG4aryc",
        "outputId": "ab1122b5-67e6-42d0-f778-72fcfe7d3c8a"
      },
      "execution_count": null,
      "outputs": [
        {
          "output_type": "stream",
          "name": "stdout",
          "text": [
            "Epoch 1/100\n",
            "297/300 [============================>.] - ETA: 0s - loss: 0.3530 - accuracy: 0.8902\n",
            "Epoch 1: val_accuracy improved from -inf to 0.97494, saving model to /content/drive/MyDrive/modelsmnist-1-0.07953-0.97494.hdf5\n",
            "300/300 [==============================] - 5s 16ms/step - loss: 0.3509 - accuracy: 0.8909 - val_loss: 0.0795 - val_accuracy: 0.9749\n",
            "Epoch 2/100\n",
            "299/300 [============================>.] - ETA: 0s - loss: 0.0910 - accuracy: 0.9725\n",
            "Epoch 2: val_accuracy improved from 0.97494 to 0.98553, saving model to /content/drive/MyDrive/modelsmnist-2-0.04650-0.98553.hdf5\n",
            "300/300 [==============================] - 4s 15ms/step - loss: 0.0910 - accuracy: 0.9725 - val_loss: 0.0465 - val_accuracy: 0.9855\n",
            "Epoch 3/100\n",
            "299/300 [============================>.] - ETA: 0s - loss: 0.0623 - accuracy: 0.9812\n",
            "Epoch 3: val_accuracy improved from 0.98553 to 0.98835, saving model to /content/drive/MyDrive/modelsmnist-3-0.03517-0.98835.hdf5\n",
            "300/300 [==============================] - 4s 14ms/step - loss: 0.0624 - accuracy: 0.9811 - val_loss: 0.0352 - val_accuracy: 0.9884\n",
            "Epoch 4/100\n",
            "298/300 [============================>.] - ETA: 0s - loss: 0.0497 - accuracy: 0.9847\n",
            "Epoch 4: val_accuracy improved from 0.98835 to 0.98953, saving model to /content/drive/MyDrive/modelsmnist-4-0.03271-0.98953.hdf5\n",
            "300/300 [==============================] - 4s 14ms/step - loss: 0.0496 - accuracy: 0.9848 - val_loss: 0.0327 - val_accuracy: 0.9895\n",
            "Epoch 5/100\n",
            "298/300 [============================>.] - ETA: 0s - loss: 0.0417 - accuracy: 0.9871\n",
            "Epoch 5: val_accuracy did not improve from 0.98953\n",
            "300/300 [==============================] - 4s 14ms/step - loss: 0.0417 - accuracy: 0.9871 - val_loss: 0.0350 - val_accuracy: 0.9888\n",
            "Epoch 6/100\n",
            "299/300 [============================>.] - ETA: 0s - loss: 0.0355 - accuracy: 0.9895\n",
            "Epoch 6: val_accuracy improved from 0.98953 to 0.98988, saving model to /content/drive/MyDrive/modelsmnist-6-0.03141-0.98988.hdf5\n",
            "300/300 [==============================] - 4s 14ms/step - loss: 0.0356 - accuracy: 0.9895 - val_loss: 0.0314 - val_accuracy: 0.9899\n",
            "Epoch 7/100\n",
            "298/300 [============================>.] - ETA: 0s - loss: 0.0292 - accuracy: 0.9905\n",
            "Epoch 7: val_accuracy improved from 0.98988 to 0.99106, saving model to /content/drive/MyDrive/modelsmnist-7-0.02612-0.99106.hdf5\n",
            "300/300 [==============================] - 4s 14ms/step - loss: 0.0291 - accuracy: 0.9905 - val_loss: 0.0261 - val_accuracy: 0.9911\n",
            "Epoch 8/100\n",
            "299/300 [============================>.] - ETA: 0s - loss: 0.0266 - accuracy: 0.9919\n",
            "Epoch 8: val_accuracy improved from 0.99106 to 0.99212, saving model to /content/drive/MyDrive/modelsmnist-8-0.02610-0.99212.hdf5\n",
            "300/300 [==============================] - 4s 13ms/step - loss: 0.0267 - accuracy: 0.9919 - val_loss: 0.0261 - val_accuracy: 0.9921\n",
            "Epoch 9/100\n",
            "298/300 [============================>.] - ETA: 0s - loss: 0.0214 - accuracy: 0.9931\n",
            "Epoch 9: val_accuracy improved from 0.99212 to 0.99282, saving model to /content/drive/MyDrive/modelsmnist-9-0.02385-0.99282.hdf5\n",
            "300/300 [==============================] - 4s 14ms/step - loss: 0.0213 - accuracy: 0.9931 - val_loss: 0.0239 - val_accuracy: 0.9928\n",
            "Epoch 10/100\n",
            "298/300 [============================>.] - ETA: 0s - loss: 0.0224 - accuracy: 0.9927\n",
            "Epoch 10: val_accuracy did not improve from 0.99282\n",
            "300/300 [==============================] - 4s 14ms/step - loss: 0.0223 - accuracy: 0.9928 - val_loss: 0.0262 - val_accuracy: 0.9921\n",
            "Epoch 11/100\n",
            "300/300 [==============================] - ETA: 0s - loss: 0.0181 - accuracy: 0.9945\n",
            "Epoch 11: val_accuracy did not improve from 0.99282\n",
            "300/300 [==============================] - 4s 14ms/step - loss: 0.0181 - accuracy: 0.9945 - val_loss: 0.0255 - val_accuracy: 0.9924\n",
            "Epoch 12/100\n",
            "297/300 [============================>.] - ETA: 0s - loss: 0.0165 - accuracy: 0.9949\n",
            "Epoch 12: val_accuracy did not improve from 0.99282\n",
            "300/300 [==============================] - 4s 14ms/step - loss: 0.0166 - accuracy: 0.9949 - val_loss: 0.0254 - val_accuracy: 0.9921\n",
            "Epoch 13/100\n",
            "297/300 [============================>.] - ETA: 0s - loss: 0.0143 - accuracy: 0.9952\n",
            "Epoch 13: val_accuracy did not improve from 0.99282\n",
            "300/300 [==============================] - 4s 14ms/step - loss: 0.0143 - accuracy: 0.9952 - val_loss: 0.0260 - val_accuracy: 0.9925\n",
            "Epoch 14/100\n",
            "299/300 [============================>.] - ETA: 0s - loss: 0.0150 - accuracy: 0.9952\n",
            "Epoch 14: val_accuracy did not improve from 0.99282\n",
            "300/300 [==============================] - 4s 14ms/step - loss: 0.0150 - accuracy: 0.9951 - val_loss: 0.0275 - val_accuracy: 0.9916\n",
            "Epoch 15/100\n",
            "300/300 [==============================] - ETA: 0s - loss: 0.0142 - accuracy: 0.9952\n",
            "Epoch 15: val_accuracy improved from 0.99282 to 0.99353, saving model to /content/drive/MyDrive/modelsmnist-15-0.02246-0.99353.hdf5\n",
            "300/300 [==============================] - 4s 14ms/step - loss: 0.0142 - accuracy: 0.9952 - val_loss: 0.0225 - val_accuracy: 0.9935\n",
            "Epoch 16/100\n",
            "300/300 [==============================] - ETA: 0s - loss: 0.0107 - accuracy: 0.9962\n",
            "Epoch 16: val_accuracy did not improve from 0.99353\n",
            "300/300 [==============================] - 4s 14ms/step - loss: 0.0107 - accuracy: 0.9962 - val_loss: 0.0273 - val_accuracy: 0.9926\n",
            "Epoch 17/100\n",
            "300/300 [==============================] - ETA: 0s - loss: 0.0116 - accuracy: 0.9962\n",
            "Epoch 17: val_accuracy did not improve from 0.99353\n",
            "300/300 [==============================] - 4s 13ms/step - loss: 0.0116 - accuracy: 0.9962 - val_loss: 0.0317 - val_accuracy: 0.9919\n",
            "Epoch 18/100\n",
            "297/300 [============================>.] - ETA: 0s - loss: 0.0097 - accuracy: 0.9968\n",
            "Epoch 18: val_accuracy did not improve from 0.99353\n",
            "300/300 [==============================] - 4s 13ms/step - loss: 0.0096 - accuracy: 0.9968 - val_loss: 0.0351 - val_accuracy: 0.9904\n",
            "Epoch 19/100\n",
            "299/300 [============================>.] - ETA: 0s - loss: 0.0099 - accuracy: 0.9967\n",
            "Epoch 19: val_accuracy did not improve from 0.99353\n",
            "300/300 [==============================] - 4s 14ms/step - loss: 0.0099 - accuracy: 0.9967 - val_loss: 0.0314 - val_accuracy: 0.9922\n",
            "Epoch 20/100\n",
            "299/300 [============================>.] - ETA: 0s - loss: 0.0091 - accuracy: 0.9970\n",
            "Epoch 20: val_accuracy did not improve from 0.99353\n",
            "300/300 [==============================] - 4s 13ms/step - loss: 0.0091 - accuracy: 0.9970 - val_loss: 0.0309 - val_accuracy: 0.9932\n",
            "Epoch 21/100\n",
            "298/300 [============================>.] - ETA: 0s - loss: 0.0069 - accuracy: 0.9978\n",
            "Epoch 21: val_accuracy did not improve from 0.99353\n",
            "300/300 [==============================] - 4s 14ms/step - loss: 0.0069 - accuracy: 0.9977 - val_loss: 0.0305 - val_accuracy: 0.9913\n"
          ]
        }
      ]
    },
    {
      "cell_type": "code",
      "source": [
        "import matplotlib.pyplot as plt\n",
        "\n",
        "fig, loss_ax = plt.subplots()\n",
        "acc_ax = loss_ax.twinx()\n",
        "\n",
        "loss_ax.plot(hist.history['loss'], 'y', label='train_loss')\n",
        "loss_ax.plot(hist.history['val_loss'], 'r', label='valid_loss')\n",
        "loss_ax.set_xlabel('epochs')\n",
        "loss_ax.set_ylabel('loss')\n",
        "loss_ax.legend(loc='upper left')\n",
        "\n",
        "acc_ax.plot(hist.history['accuracy'], 'b', label='train_accuracy')\n",
        "acc_ax.plot(hist.history['val_accuracy'], 'g', label='valid_accuracy')\n",
        "acc_ax.set_xlabel('epochs')\n",
        "acc_ax.set_ylabel('accuracy')\n",
        "acc_ax.legend(loc='upper right', bbox_to_anchor=(1, 0.5))\n",
        "\n",
        "plt.show()"
      ],
      "metadata": {
        "colab": {
          "base_uri": "https://localhost:8080/",
          "height": 279
        },
        "id": "avapxPDqeayI",
        "outputId": "b1935232-9925-41ef-a9ee-7e8993aae50f"
      },
      "execution_count": null,
      "outputs": [
        {
          "output_type": "display_data",
          "data": {
            "image/png": "[encoded data removed]",
            "text/plain": [
              "<Figure size 432x288 with 2 Axes>"
            ]
          },
          "metadata": {
            "needs_background": "light"
          }
        }
      ]
    },
    {
      "cell_type": "code",
      "source": [
        "saved_path = '/content/drive/MyDrive/modelsmnist-9-0.02385-0.99282.hdf5'\n",
        "model.compile(optimizer='adam', loss='sparse_categorical_crossentropy', metrics=['accuracy'])\n",
        "\n",
        "model.load_weights(saved_path)\n",
        "\n",
        "print(f\"Loss, Accuracy {model.evaluate(test_images, test_labels)}\")"
      ],
      "metadata": {
        "colab": {
          "base_uri": "https://localhost:8080/"
        },
        "id": "_y75Yzp6a_wR",
        "outputId": "2392fb2b-b5e0-43ba-f965-49751709853f"
      },
      "execution_count": null,
      "outputs": [
        {
          "output_type": "stream",
          "name": "stdout",
          "text": [
            "47/47 [==============================] - 0s 4ms/step - loss: 0.0302 - accuracy: 0.9887\n",
            "Loss, Accuracy [0.03024616278707981, 0.9886666536331177]\n"
          ]
        }
      ]
    },
    {
      "cell_type": "code",
      "source": [
        "!ls -la '/content/drive/MyDrive/models/' #폴더 검색"
      ],
      "metadata": {
        "colab": {
          "base_uri": "https://localhost:8080/"
        },
        "id": "TjRjVsIDkrXw",
        "outputId": "183b8398-895f-4e82-f507-9ed41620caee"
      },
      "execution_count": null,
      "outputs": [
        {
          "output_type": "stream",
          "name": "stdout",
          "text": [
            "total 391\n",
            "-rw------- 1 root root 400264 Mar  3 01:50 modelsmnist-7-0.02742-0.99247.hdf5\n"
          ]
        }
      ]
    },
    {
      "cell_type": "code",
      "source": [
        "!rm '/content/drive/MyDrive/models/ *' #폴더에 내용 삭제하는거"
      ],
      "metadata": {
        "colab": {
          "base_uri": "https://localhost:8080/"
        },
        "id": "9fTnoBx4k6L_",
        "outputId": "fcd5b2fc-5a58-4e0f-a578-1c78527fa556"
      },
      "execution_count": null,
      "outputs": [
        {
          "output_type": "stream",
          "name": "stdout",
          "text": [
            "rm: cannot remove '/content/drive/MyDrive/models/ *': No such file or directory\n"
          ]
        }
      ]
    },
    {
      "cell_type": "code",
      "source": [
        "import tensorflow as tf\n",
        "from tensorflow.keras.models import Model\n",
        "from tensorflow.keras.layers import Input\n",
        "from tensorflow.keras.layers import Input, Conv2D, MaxPool2D, Flatten, Dense, Dropout\n",
        "\n",
        "class MNISTModel(Model):\n",
        "    def __init__(self):\n",
        "        super(MNISTModel,self).__init__()\n",
        "        self.conv1 = Conv2D(32,(3,3), activation='relu')\n",
        "        self.pool1 = MaxPool2D()\n",
        "        self.conv2 = Conv2D(64,(3,3),activation='relu')\n",
        "        self.pool2 = MaxPool2D()\n",
        "        self.conv3 = Conv2D(64,(3,3),activation='relu')\n",
        "        self.flat = Flatten()\n",
        "        self.dense4 = Dense(64,activation='relu')\n",
        "        self.drop = Dropout(0.2)\n",
        "        self.outputs = Dense(10,activation='softmax')\n",
        "      \n",
        "    def call(self, inputs, training= False): #포워드 함수\n",
        "        net = self.conv1(inputs)\n",
        "        net = self.pool1(net)\n",
        "        net = self.conv2(net)\n",
        "        net = self.pool2(net)\n",
        "        net = self.conv3(net)\n",
        "        net = self.flat(net)\n",
        "        net = self.dense4(net)\n",
        "        net = self.drop(net)\n",
        "        net = self.outputs(net)\n",
        "\n",
        "        return net\n",
        "\n",
        "model = MNISTModel()\n",
        "inputs = Input(shape=(28,28,1))\n",
        "model(inputs)\n",
        "\n",
        "model.summary()\n",
        "      "
      ],
      "metadata": {
        "colab": {
          "base_uri": "https://localhost:8080/"
        },
        "id": "W5lzfHAhlCzL",
        "outputId": "d4b6910f-3b0d-423e-af89-d63ce6991fa2"
      },
      "execution_count": null,
      "outputs": [
        {
          "output_type": "stream",
          "name": "stdout",
          "text": [
            "Model: \"mnist_model\"\n",
            "_________________________________________________________________\n",
            " Layer (type)                Output Shape              Param #   \n",
            "=================================================================\n",
            " conv2d_6 (Conv2D)           multiple                  320       \n",
            "                                                                 \n",
            " max_pooling2d_4 (MaxPooling  multiple                 0         \n",
            " 2D)                                                             \n",
            "                                                                 \n",
            " conv2d_7 (Conv2D)           multiple                  18496     \n",
            "                                                                 \n",
            " max_pooling2d_5 (MaxPooling  multiple                 0         \n",
            " 2D)                                                             \n",
            "                                                                 \n",
            " conv2d_8 (Conv2D)           multiple                  36928     \n",
            "                                                                 \n",
            " flatten_2 (Flatten)         multiple                  0         \n",
            "                                                                 \n",
            " dense_4 (Dense)             multiple                  36928     \n",
            "                                                                 \n",
            " dropout_2 (Dropout)         multiple                  0         \n",
            "                                                                 \n",
            " dense_5 (Dense)             multiple                  650       \n",
            "                                                                 \n",
            "=================================================================\n",
            "Total params: 93,322\n",
            "Trainable params: 93,322\n",
            "Non-trainable params: 0\n",
            "_________________________________________________________________\n"
          ]
        }
      ]
    },
    {
      "cell_type": "code",
      "source": [
        "from tensorflow.keras.callbacks import ModelCheckpoint, EarlyStopping\n",
        "\n",
        "MODEL_SAVE_FOLDER='/content/drive/MyDrive/models/'\n",
        "model_path = f\"{MODEL_SAVE_FOLDER}mnist-{{epoch:d}}-{{val_loss:.5f}}-{{val_accuracy:.5f}}.hdf5\"\n",
        "\n",
        "cb_checkpoint = ModelCheckpoint(filepath=model_path, monitor='val_accuracy', verbose=1,save_weights_only = True, save_best_only=True)\n",
        "\n",
        "cb_early_stopping = EarlyStopping(monitor = 'val_accuracy', patience=6)"
      ],
      "metadata": {
        "id": "ydBoxWz7nzg_"
      },
      "execution_count": null,
      "outputs": []
    },
    {
      "cell_type": "code",
      "source": [
        "model.compile(optimizer='adam', loss='sparse_categorical_crossentropy', metrics=['accuracy'])\n",
        "hist = model.fit(train_images, train_labels, validation_data=(valid_images, valid_labels),\n",
        "                 epochs=100, batch_size=200,\n",
        "                 callbacks=[cb_checkpoint, cb_early_stopping])  #callbacks 내가 함수를 호출하는 것이 아니라 시스템이 함수를 소출시키는 것"
      ],
      "metadata": {
        "colab": {
          "base_uri": "https://localhost:8080/"
        },
        "id": "e07oCp7soC1e",
        "outputId": "d7057b2c-a229-4ecf-e378-e6a890e254f6"
      },
      "execution_count": null,
      "outputs": [
        {
          "output_type": "stream",
          "name": "stdout",
          "text": [
            "Epoch 1/100\n",
            "299/300 [============================>.] - ETA: 0s - loss: 0.3507 - accuracy: 0.8918\n",
            "Epoch 1: val_accuracy improved from -inf to 0.97800, saving model to /content/drive/MyDrive/models/mnist-1-0.07161-0.97800.hdf5\n",
            "300/300 [==============================] - 5s 15ms/step - loss: 0.3499 - accuracy: 0.8921 - val_loss: 0.0716 - val_accuracy: 0.9780\n",
            "Epoch 2/100\n",
            "300/300 [==============================] - ETA: 0s - loss: 0.0885 - accuracy: 0.9733\n",
            "Epoch 2: val_accuracy improved from 0.97800 to 0.98518, saving model to /content/drive/MyDrive/models/mnist-2-0.04807-0.98518.hdf5\n",
            "300/300 [==============================] - 4s 14ms/step - loss: 0.0885 - accuracy: 0.9733 - val_loss: 0.0481 - val_accuracy: 0.9852\n",
            "Epoch 3/100\n",
            "296/300 [============================>.] - ETA: 0s - loss: 0.0592 - accuracy: 0.9823\n",
            "Epoch 3: val_accuracy improved from 0.98518 to 0.98706, saving model to /content/drive/MyDrive/models/mnist-3-0.04008-0.98706.hdf5\n",
            "300/300 [==============================] - 4s 13ms/step - loss: 0.0592 - accuracy: 0.9823 - val_loss: 0.0401 - val_accuracy: 0.9871\n",
            "Epoch 4/100\n",
            "298/300 [============================>.] - ETA: 0s - loss: 0.0499 - accuracy: 0.9851\n",
            "Epoch 4: val_accuracy improved from 0.98706 to 0.98976, saving model to /content/drive/MyDrive/models/mnist-4-0.03119-0.98976.hdf5\n",
            "300/300 [==============================] - 4s 14ms/step - loss: 0.0499 - accuracy: 0.9851 - val_loss: 0.0312 - val_accuracy: 0.9898\n",
            "Epoch 5/100\n",
            "297/300 [============================>.] - ETA: 0s - loss: 0.0392 - accuracy: 0.9879\n",
            "Epoch 5: val_accuracy improved from 0.98976 to 0.99047, saving model to /content/drive/MyDrive/models/mnist-5-0.02997-0.99047.hdf5\n",
            "300/300 [==============================] - 5s 16ms/step - loss: 0.0390 - accuracy: 0.9880 - val_loss: 0.0300 - val_accuracy: 0.9905\n",
            "Epoch 6/100\n",
            "300/300 [==============================] - ETA: 0s - loss: 0.0345 - accuracy: 0.9891\n",
            "Epoch 6: val_accuracy did not improve from 0.99047\n",
            "300/300 [==============================] - 4s 13ms/step - loss: 0.0345 - accuracy: 0.9891 - val_loss: 0.0303 - val_accuracy: 0.9904\n",
            "Epoch 7/100\n",
            "297/300 [============================>.] - ETA: 0s - loss: 0.0289 - accuracy: 0.9907\n",
            "Epoch 7: val_accuracy improved from 0.99047 to 0.99176, saving model to /content/drive/MyDrive/models/mnist-7-0.02464-0.99176.hdf5\n",
            "300/300 [==============================] - 4s 14ms/step - loss: 0.0290 - accuracy: 0.9907 - val_loss: 0.0246 - val_accuracy: 0.9918\n",
            "Epoch 8/100\n",
            "299/300 [============================>.] - ETA: 0s - loss: 0.0267 - accuracy: 0.9918\n",
            "Epoch 8: val_accuracy improved from 0.99176 to 0.99200, saving model to /content/drive/MyDrive/models/mnist-8-0.02587-0.99200.hdf5\n",
            "300/300 [==============================] - 4s 14ms/step - loss: 0.0269 - accuracy: 0.9918 - val_loss: 0.0259 - val_accuracy: 0.9920\n",
            "Epoch 9/100\n",
            "299/300 [============================>.] - ETA: 0s - loss: 0.0228 - accuracy: 0.9929\n",
            "Epoch 9: val_accuracy improved from 0.99200 to 0.99282, saving model to /content/drive/MyDrive/models/mnist-9-0.02284-0.99282.hdf5\n",
            "300/300 [==============================] - 4s 14ms/step - loss: 0.0228 - accuracy: 0.9929 - val_loss: 0.0228 - val_accuracy: 0.9928\n",
            "Epoch 10/100\n",
            "299/300 [============================>.] - ETA: 0s - loss: 0.0197 - accuracy: 0.9939\n",
            "Epoch 10: val_accuracy did not improve from 0.99282\n",
            "300/300 [==============================] - 4s 14ms/step - loss: 0.0196 - accuracy: 0.9939 - val_loss: 0.0241 - val_accuracy: 0.9920\n",
            "Epoch 11/100\n",
            "298/300 [============================>.] - ETA: 0s - loss: 0.0183 - accuracy: 0.9938\n",
            "Epoch 11: val_accuracy did not improve from 0.99282\n",
            "300/300 [==============================] - 4s 14ms/step - loss: 0.0183 - accuracy: 0.9938 - val_loss: 0.0252 - val_accuracy: 0.9924\n",
            "Epoch 12/100\n",
            "299/300 [============================>.] - ETA: 0s - loss: 0.0163 - accuracy: 0.9947\n",
            "Epoch 12: val_accuracy did not improve from 0.99282\n",
            "300/300 [==============================] - 4s 14ms/step - loss: 0.0164 - accuracy: 0.9947 - val_loss: 0.0255 - val_accuracy: 0.9920\n",
            "Epoch 13/100\n",
            "299/300 [============================>.] - ETA: 0s - loss: 0.0144 - accuracy: 0.9954\n",
            "Epoch 13: val_accuracy did not improve from 0.99282\n",
            "300/300 [==============================] - 4s 14ms/step - loss: 0.0143 - accuracy: 0.9954 - val_loss: 0.0245 - val_accuracy: 0.9925\n",
            "Epoch 14/100\n",
            "299/300 [============================>.] - ETA: 0s - loss: 0.0142 - accuracy: 0.9953\n",
            "Epoch 14: val_accuracy did not improve from 0.99282\n",
            "300/300 [==============================] - 4s 14ms/step - loss: 0.0142 - accuracy: 0.9953 - val_loss: 0.0265 - val_accuracy: 0.9922\n",
            "Epoch 15/100\n",
            "298/300 [============================>.] - ETA: 0s - loss: 0.0122 - accuracy: 0.9958\n",
            "Epoch 15: val_accuracy did not improve from 0.99282\n",
            "300/300 [==============================] - 4s 13ms/step - loss: 0.0122 - accuracy: 0.9958 - val_loss: 0.0275 - val_accuracy: 0.9920\n"
          ]
        }
      ]
    },
    {
      "cell_type": "code",
      "source": [
        "saved_path = '/content/drive/MyDrive/models/mnist-9-0.02284-0.99282.hdf5'\n",
        "model.compile(optimizer='adam', loss='sparse_categorical_crossentropy', metrics=['accuracy'])\n",
        "\n",
        "model.load_weights(saved_path)\n",
        "\n",
        "print(f\"Loss, Accuracy {model.evaluate(test_images, test_labels)}\")"
      ],
      "metadata": {
        "colab": {
          "base_uri": "https://localhost:8080/"
        },
        "id": "127dijICoIU2",
        "outputId": "48c39c19-1963-4b42-f607-e7d44d521db5"
      },
      "execution_count": null,
      "outputs": [
        {
          "output_type": "stream",
          "name": "stdout",
          "text": [
            "47/47 [==============================] - 0s 4ms/step - loss: 0.0254 - accuracy: 0.9940\n",
            "Loss, Accuracy [0.025373738259077072, 0.9940000176429749]\n"
          ]
        }
      ]
    },
    {
      "cell_type": "code",
      "source": [
        "output = model(test_images)\n",
        "output.shape"
      ],
      "metadata": {
        "colab": {
          "base_uri": "https://localhost:8080/"
        },
        "id": "3X7nWJCVpxPd",
        "outputId": "b0c4c982-c3bb-473e-bb7f-0443ffd6e748"
      },
      "execution_count": null,
      "outputs": [
        {
          "output_type": "execute_result",
          "data": {
            "text/plain": [
              "TensorShape([1500, 10])"
            ]
          },
          "metadata": {},
          "execution_count": 27
        }
      ]
    },
    {
      "cell_type": "code",
      "source": [
        "output[0]"
      ],
      "metadata": {
        "colab": {
          "base_uri": "https://localhost:8080/"
        },
        "id": "Rwf_s_hMDMUn",
        "outputId": "bbfef400-3c55-45dc-d726-acf43168e5df"
      },
      "execution_count": null,
      "outputs": [
        {
          "output_type": "execute_result",
          "data": {
            "text/plain": [
              "<tf.Tensor: shape=(10,), dtype=float32, numpy=\n",
              "array([1.09980754e-10, 4.31749742e-13, 1.01987481e-11, 1.69811457e-10,\n",
              "       1.86457385e-07, 7.30937033e-10, 3.97856525e-13, 1.91639265e-06,\n",
              "       1.29163380e-09, 9.99997854e-01], dtype=float32)>"
            ]
          },
          "metadata": {},
          "execution_count": 28
        }
      ]
    },
    {
      "cell_type": "code",
      "source": [
        "import numpy as np\n",
        "np.argmax(output[0])"
      ],
      "metadata": {
        "colab": {
          "base_uri": "https://localhost:8080/"
        },
        "id": "kJ3mCLGBCVXp",
        "outputId": "21d7eb2b-3fa0-4ffe-aaef-582636593832"
      },
      "execution_count": null,
      "outputs": [
        {
          "output_type": "execute_result",
          "data": {
            "text/plain": [
              "9"
            ]
          },
          "metadata": {},
          "execution_count": 29
        }
      ]
    },
    {
      "cell_type": "code",
      "source": [
        "test_labels[0]"
      ],
      "metadata": {
        "colab": {
          "base_uri": "https://localhost:8080/"
        },
        "id": "zlQ9u8XRDGWA",
        "outputId": "08728982-b763-42d6-ac47-94f1258696ec"
      },
      "execution_count": null,
      "outputs": [
        {
          "output_type": "execute_result",
          "data": {
            "text/plain": [
              "9"
            ]
          },
          "metadata": {},
          "execution_count": 30
        }
      ]
    },
    {
      "cell_type": "code",
      "source": [
        ""
      ],
      "metadata": {
        "id": "s2TrjnzEDVsH"
      },
      "execution_count": null,
      "outputs": []
    }
  ]
}